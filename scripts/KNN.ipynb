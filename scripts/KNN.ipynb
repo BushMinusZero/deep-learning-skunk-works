{
 "cells": [
  {
   "cell_type": "code",
   "execution_count": 1,
   "metadata": {
    "collapsed": true
   },
   "outputs": [
    {
     "name": "stdout",
     "output_type": "stream",
     "text": [
      "env: PROJECT_ROOT=/Users/nathanielbush/Devel/deep-learning-skunk-works\n"
     ]
    }
   ],
   "source": [
    "%env PROJECT_ROOT=/Users/nathanielbush/Devel/deep-learning-skunk-works\n",
    "\n",
    "import torch\n",
    "\n",
    "from src.config import SkipGramConfig\n",
    "from src.skipgram import load_counter_stoi_and_itos, load_skip_gram_model\n",
    "\n",
    "from sklearn.neighbors import NearestNeighbors"
   ]
  },
  {
   "cell_type": "code",
   "execution_count": 2,
   "outputs": [],
   "source": [
    "config = SkipGramConfig(model_date=SkipGramConfig.get_latest_model())\n",
    "_, stoi, itos = load_counter_stoi_and_itos(config.model_vocab_path)\n",
    "model = load_skip_gram_model(config.model_best_checkpoint_path, stoi, config)"
   ],
   "metadata": {
    "collapsed": false,
    "pycharm": {
     "name": "#%%\n"
    }
   }
  },
  {
   "cell_type": "code",
   "execution_count": 3,
   "outputs": [],
   "source": [
    "# Computes the pairwise distance for each embedded word\n",
    "embeddings = model.embeddings.weight"
   ],
   "metadata": {
    "collapsed": false,
    "pycharm": {
     "name": "#%%\n"
    }
   }
  },
  {
   "cell_type": "code",
   "execution_count": 4,
   "outputs": [],
   "source": [
    "X = embeddings.detach().numpy()\n",
    "nbrs = NearestNeighbors(n_neighbors=4, algorithm='ball_tree').fit(X)\n",
    "distances, indices = nbrs.kneighbors(X)"
   ],
   "metadata": {
    "collapsed": false,
    "pycharm": {
     "name": "#%%\n"
    }
   }
  },
  {
   "cell_type": "code",
   "execution_count": 5,
   "outputs": [
    {
     "name": "stdout",
     "output_type": "stream",
     "text": [
      "\n",
      "Show nearest neighbors for word \"<oov>\"\n",
      "Neighbor (11413) \"furthermore\" with distance 0.08273269665733916\n",
      "Neighbor (10258) \"curiously\" with distance 0.0855458802677008\n",
      "Neighbor (9766) \"oops\" with distance 0.08848808823952616\n",
      "\n",
      "Show nearest neighbors for word \"we\"\n",
      "Neighbor (99) \"they\" with distance 2.516744081398352\n",
      "Neighbor (22) \"you\" with distance 3.576323600723452\n",
      "Neighbor (353) \"just\" with distance 3.713670971092164\n",
      "\n",
      "Show nearest neighbors for word \"wish\"\n",
      "Neighbor (736) \"guess\" with distance 1.301182032585658\n",
      "Neighbor (253) \"expected\" with distance 1.3092369198218248\n",
      "Neighbor (710) \"figured\" with distance 1.3160582939439387\n",
      "\n",
      "Show nearest neighbors for word \"him\"\n",
      "Neighbor (203) \"us\" with distance 2.68836402193563\n",
      "Neighbor (18) \"them\" with distance 2.7084301437625404\n",
      "Neighbor (167) \"her\" with distance 2.7975046840070568\n",
      "\n",
      "Show nearest neighbors for word \"the\"\n",
      "Neighbor (519) \"our\" with distance 3.4052195584718263\n",
      "Neighbor (714) \"their\" with distance 3.4676965464085896\n",
      "Neighbor (3363) \"full\" with distance 3.6174943274173454\n",
      "\n",
      "Show nearest neighbors for word \"best\"\n",
      "Neighbor (1502) \"duty\" with distance 0.7699277171320589\n",
      "Neighbor (4411) \"risk\" with distance 0.8006597487345243\n",
      "Neighbor (3510) \"cause\" with distance 0.8375672868862959\n",
      "\n",
      "Show nearest neighbors for word \"in\"\n",
      "Neighbor (159) \"into\" with distance 2.8385819768165157\n",
      "Neighbor (2415) \"near\" with distance 2.8802963424249937\n",
      "Neighbor (422) \"on\" with distance 2.9350023975820143\n",
      "\n",
      "Show nearest neighbors for word \"his\"\n",
      "Neighbor (167) \"her\" with distance 2.1403639806564634\n",
      "Neighbor (189) \"my\" with distance 2.5679919753764056\n",
      "Neighbor (714) \"their\" with distance 2.972272484502332\n",
      "\n",
      "Show nearest neighbors for word \"future\"\n",
      "Neighbor (5531) \"clouds\" with distance 0.6595919914883455\n",
      "Neighbor (1683) \"garden\" with distance 0.6754337776190819\n",
      "Neighbor (3272) \"couch\" with distance 0.6960245041400134\n",
      "\n",
      "Show nearest neighbors for word \"endeavors\"\n",
      "Neighbor (6967) \"permeated\" with distance 0.2933378271831965\n",
      "Neighbor (9398) \"bikes\" with distance 0.3014019525573327\n",
      "Neighbor (7702) \"succeeds\" with distance 0.3022070965870616\n",
      "\n",
      "Show nearest neighbors for word \".\"\n",
      "Neighbor (347) \"!\" with distance 1.529159234633575\n",
      "Neighbor (6598) \"fifth\" with distance 1.6685732317643047\n",
      "Neighbor (1158) \"during\" with distance 1.6731126565254302\n",
      "\n",
      "Show nearest neighbors for word \"i\"\n",
      "Neighbor (1) \"we\" with distance 4.666577821534822\n",
      "Neighbor (177) \"sorry\" with distance 4.870472902044692\n",
      "Neighbor (96) \"glad\" with distance 4.896674795688428\n",
      "\n",
      "Show nearest neighbors for word \"love\"\n",
      "Neighbor (4030) \"hanging\" with distance 1.2960665935442648\n",
      "Neighbor (3808) \"cave\" with distance 1.3057914111889204\n",
      "Neighbor (1225) \"drove\" with distance 1.320112225320332\n",
      "\n",
      "Show nearest neighbors for word \"this\"\n",
      "Neighbor (12) \"love\" with distance 2.947719542985649\n",
      "Neighbor (402) \"today\" with distance 2.9563516646965264\n",
      "Neighbor (1070) \"reading\" with distance 3.0487035715800084\n",
      "\n",
      "Show nearest neighbors for word \"game\"\n",
      "Neighbor (2979) \"market\" with distance 0.4584132658331074\n",
      "Neighbor (3566) \"independent\" with distance 0.49092455370685206\n",
      "Neighbor (3125) \"wind\" with distance 0.49138035769224453\n",
      "\n",
      "Show nearest neighbors for word \"bad\"\n",
      "Neighbor (552) \"built\" with distance 0.8437949546137491\n",
      "Neighbor (3728) \"fake\" with distance 0.8486930420355946\n",
      "Neighbor (1504) \"terrible\" with distance 0.8552418010790284\n",
      "\n",
      "Show nearest neighbors for word \"weather\"\n",
      "Neighbor (14) \"game\" with distance 0.6272273490760115\n",
      "Neighbor (2979) \"market\" with distance 0.647194922923716\n",
      "Neighbor (82) \"climate\" with distance 0.6579308110479373\n",
      "\n",
      "Show nearest neighbors for word \"prevented\"\n",
      "Neighbor (10349) \"notify\" with distance 0.39144265372902354\n",
      "Neighbor (2833) \"putting\" with distance 0.405505453675701\n",
      "Neighbor (9) \"endeavors\" with distance 0.40778138734134717\n",
      "\n",
      "Show nearest neighbors for word \"them\"\n",
      "Neighbor (523) \"others\" with distance 1.2851741482874512\n",
      "Neighbor (1740) \"die\" with distance 1.3582233928976837\n",
      "Neighbor (3449) \"camping\" with distance 1.3708389640561731\n",
      "\n",
      "Show nearest neighbors for word \"from\"\n",
      "Neighbor (2415) \"near\" with distance 1.235770052906478\n",
      "Neighbor (505) \"around\" with distance 1.2988506760443044\n",
      "Neighbor (159) \"into\" with distance 1.3847445808426246\n"
     ]
    }
   ],
   "source": [
    "for i in range(20):\n",
    "  nn_indices = indices[i]\n",
    "  word = itos[nn_indices[0]]\n",
    "  print(f'\\nShow nearest neighbors for word \"{word}\"')\n",
    "  for j, neighbor in enumerate(nn_indices[1:]):\n",
    "    neighbor_word = itos[neighbor]\n",
    "    distance = distances[i][j+1]\n",
    "    print(f'Neighbor ({neighbor}) \"{neighbor_word}\" with distance {distance}')"
   ],
   "metadata": {
    "collapsed": false,
    "pycharm": {
     "name": "#%%\n"
    }
   }
  }
 ],
 "metadata": {
  "kernelspec": {
   "display_name": "Python 3",
   "language": "python",
   "name": "python3"
  },
  "language_info": {
   "codemirror_mode": {
    "name": "ipython",
    "version": 2
   },
   "file_extension": ".py",
   "mimetype": "text/x-python",
   "name": "python",
   "nbconvert_exporter": "python",
   "pygments_lexer": "ipython2",
   "version": "2.7.6"
  }
 },
 "nbformat": 4,
 "nbformat_minor": 0
}